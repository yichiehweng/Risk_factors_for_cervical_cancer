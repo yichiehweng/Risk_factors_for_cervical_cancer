{
 "cells": [
  {
   "cell_type": "code",
   "execution_count": 1,
   "metadata": {},
   "outputs": [],
   "source": [
    "import numpy as np;"
   ]
  },
  {
   "cell_type": "code",
   "execution_count": 2,
   "metadata": {},
   "outputs": [],
   "source": [
    "import pandas as pd;"
   ]
  },
  {
   "cell_type": "code",
   "execution_count": 3,
   "metadata": {},
   "outputs": [],
   "source": [
    "from sklearn import svm,metrics;"
   ]
  },
  {
   "cell_type": "code",
   "execution_count": 4,
   "metadata": {},
   "outputs": [],
   "source": [
    "from sklearn.preprocessing import Imputer"
   ]
  },
  {
   "cell_type": "code",
   "execution_count": 5,
   "metadata": {},
   "outputs": [],
   "source": [
    "import numpy"
   ]
  },
  {
   "cell_type": "code",
   "execution_count": 6,
   "metadata": {},
   "outputs": [],
   "source": [
    "#Import data"
   ]
  },
  {
   "cell_type": "code",
   "execution_count": 7,
   "metadata": {},
   "outputs": [],
   "source": [
    "df=pd.read_csv(\"/home/yichiehweng/python/machineLearning/SVM/risk_factors_cervical_cancer/data/data.csv\");"
   ]
  },
  {
   "cell_type": "code",
   "execution_count": 8,
   "metadata": {},
   "outputs": [],
   "source": [
    "df=df.replace('?',numpy.NaN)"
   ]
  },
  {
   "cell_type": "code",
   "execution_count": 9,
   "metadata": {},
   "outputs": [],
   "source": [
    "df=df.fillna(df.median())"
   ]
  },
  {
   "cell_type": "code",
   "execution_count": 10,
   "metadata": {},
   "outputs": [],
   "source": [
    "df=df[df.columns.difference([26,27])]"
   ]
  },
  {
   "cell_type": "code",
   "execution_count": 11,
   "metadata": {},
   "outputs": [
    {
     "name": "stdout",
     "output_type": "stream",
     "text": [
      "     Age  Biopsy  Citology  Dx  Dx:CIN  Dx:Cancer  Dx:HPV  \\\n",
      "0     18       0         0   0       0          0       0   \n",
      "1     15       0         0   0       0          0       0   \n",
      "2     34       0         0   0       0          0       0   \n",
      "3     52       0         0   0       0          1       1   \n",
      "4     46       0         0   0       0          0       0   \n",
      "5     42       0         0   0       0          0       0   \n",
      "6     51       1         0   0       0          0       0   \n",
      "7     26       0         0   0       0          0       0   \n",
      "8     45       0         0   1       0          1       1   \n",
      "9     44       0         0   0       0          0       0   \n",
      "10    44       0         0   0       0          0       0   \n",
      "11    27       0         0   0       0          0       0   \n",
      "12    45       0         0   0       0          0       0   \n",
      "13    44       0         0   0       0          0       0   \n",
      "14    43       0         0   0       0          0       0   \n",
      "15    40       0         0   0       0          0       0   \n",
      "16    41       0         0   0       0          0       0   \n",
      "17    43       0         0   0       0          0       0   \n",
      "18    42       0         0   0       0          0       0   \n",
      "19    40       0         0   0       0          0       0   \n",
      "20    43       0         0   0       0          0       0   \n",
      "21    41       0         0   0       0          0       0   \n",
      "22    40       1         1   0       0          0       0   \n",
      "23    40       1         0   0       0          1       1   \n",
      "24    40       0         0   0       0          0       0   \n",
      "25    44       0         0   0       0          0       0   \n",
      "26    39       0         0   0       0          0       0   \n",
      "27    39       0         0   0       0          0       0   \n",
      "28    37       0         0   0       0          0       0   \n",
      "29    37       0         0   0       0          0       0   \n",
      "..   ...     ...       ...  ..     ...        ...     ...   \n",
      "828   33       0         0   0       0          0       0   \n",
      "829   34       0         0   0       0          0       0   \n",
      "830   35       0         0   0       0          0       0   \n",
      "831   40       0         0   0       0          0       0   \n",
      "832   30       0         0   0       0          0       0   \n",
      "833   34       0         0   0       0          0       0   \n",
      "834   30       0         0   0       0          0       0   \n",
      "835   24       0         0   0       0          0       0   \n",
      "836   37       0         0   0       0          0       0   \n",
      "837   31       0         0   0       0          0       0   \n",
      "838   35       0         0   0       0          0       0   \n",
      "839   31       0         0   1       0          1       0   \n",
      "840   24       0         0   0       0          0       0   \n",
      "841   23       0         0   0       0          0       0   \n",
      "842   36       0         0   0       0          0       0   \n",
      "843   30       0         0   0       0          0       0   \n",
      "844   26       0         0   0       0          0       0   \n",
      "845   19       0         0   0       0          0       0   \n",
      "846   35       0         0   0       0          0       0   \n",
      "847   30       0         0   0       0          0       0   \n",
      "848   31       0         0   0       0          0       0   \n",
      "849   32       0         0   0       0          1       1   \n",
      "850   19       0         0   0       0          0       0   \n",
      "851   23       0         0   0       0          0       0   \n",
      "852   43       0         0   0       0          0       0   \n",
      "853   34       0         0   0       0          0       0   \n",
      "854   32       0         0   0       0          0       0   \n",
      "855   25       0         1   0       0          0       0   \n",
      "856   33       0         0   0       0          0       0   \n",
      "857   29       0         0   0       0          0       0   \n",
      "\n",
      "    First sexual intercourse  Hinselmann Hormonal Contraceptives  \\\n",
      "0                       15.0           0                     0.0   \n",
      "1                       14.0           0                     0.0   \n",
      "2                         17           0                     0.0   \n",
      "3                       16.0           0                     1.0   \n",
      "4                       21.0           0                     1.0   \n",
      "5                       23.0           0                     0.0   \n",
      "6                       17.0           1                     0.0   \n",
      "7                       26.0           0                     1.0   \n",
      "8                       20.0           0                     0.0   \n",
      "9                       15.0           0                     0.0   \n",
      "10                      26.0           0                     1.0   \n",
      "11                      17.0           0                     1.0   \n",
      "12                      14.0           0                     1.0   \n",
      "13                      25.0           0                     1.0   \n",
      "14                      18.0           0                     0.0   \n",
      "15                      18.0           0                     1.0   \n",
      "16                      21.0           0                     1.0   \n",
      "17                      15.0           0                     1.0   \n",
      "18                      20.0           0                     1.0   \n",
      "19                      27.0           0                     0.0   \n",
      "20                      18.0           0                     1.0   \n",
      "21                      17.0           0                     1.0   \n",
      "22                      18.0           0                     1.0   \n",
      "23                      20.0           1                     1.0   \n",
      "24                      15.0           0                     1.0   \n",
      "25                      19.0           0                     0.0   \n",
      "26                      23.0           0                     0.0   \n",
      "27                      17.0           0                     0.0   \n",
      "28                      24.0           0                     0.0   \n",
      "29                      26.0           0                     1.0   \n",
      "..                       ...         ...                     ...   \n",
      "828                     21.0           0                     0.0   \n",
      "829                     14.0           0                     0.0   \n",
      "830                     16.0           0                     0.0   \n",
      "831                     23.0           0                     0.0   \n",
      "832                     18.0           0                     1.0   \n",
      "833                       17           0                     0.0   \n",
      "834                     15.0           0                     0.0   \n",
      "835                     14.0           0                     0.0   \n",
      "836                       17           0                     1.0   \n",
      "837                       17           0                     1.0   \n",
      "838                     18.0           0                     1.0   \n",
      "839                     19.0           0                     1.0   \n",
      "840                     16.0           0                     1.0   \n",
      "841                     15.0           0                     0.0   \n",
      "842                     16.0           0                     1.0   \n",
      "843                     14.0           0                     1.0   \n",
      "844                     15.0           0                     1.0   \n",
      "845                     15.0           0                     1.0   \n",
      "846                     17.0           0                     0.0   \n",
      "847                     22.0           0                     0.0   \n",
      "848                     18.0           0                     1.0   \n",
      "849                     18.0           0                     1.0   \n",
      "850                     14.0           0                     0.0   \n",
      "851                     15.0           0                     0.0   \n",
      "852                     17.0           0                     1.0   \n",
      "853                     18.0           0                     0.0   \n",
      "854                     19.0           0                     1.0   \n",
      "855                     17.0           0                     1.0   \n",
      "856                     24.0           0                     1.0   \n",
      "857                     20.0           0                     1.0   \n",
      "\n",
      "         ...       STDs:genital herpes STDs:molluscum contagiosum  \\\n",
      "0        ...                       0.0                        0.0   \n",
      "1        ...                       0.0                        0.0   \n",
      "2        ...                       0.0                        0.0   \n",
      "3        ...                       0.0                        0.0   \n",
      "4        ...                       0.0                        0.0   \n",
      "5        ...                       0.0                        0.0   \n",
      "6        ...                       0.0                        0.0   \n",
      "7        ...                       0.0                        0.0   \n",
      "8        ...                       0.0                        0.0   \n",
      "9        ...                       0.0                        0.0   \n",
      "10       ...                       0.0                        0.0   \n",
      "11       ...                       0.0                        0.0   \n",
      "12       ...                       0.0                        0.0   \n",
      "13       ...                       0.0                        0.0   \n",
      "14       ...                       0.0                        0.0   \n",
      "15       ...                       0.0                        0.0   \n",
      "16       ...                       0.0                        0.0   \n",
      "17       ...                       0.0                        0.0   \n",
      "18       ...                       0.0                        0.0   \n",
      "19       ...                       0.0                        0.0   \n",
      "20       ...                       0.0                        0.0   \n",
      "21       ...                       0.0                        0.0   \n",
      "22       ...                       0.0                        0.0   \n",
      "23       ...                       0.0                        0.0   \n",
      "24       ...                       0.0                        0.0   \n",
      "25       ...                       0.0                        0.0   \n",
      "26       ...                       0.0                        0.0   \n",
      "27       ...                       0.0                        0.0   \n",
      "28       ...                       0.0                        0.0   \n",
      "29       ...                       0.0                        0.0   \n",
      "..       ...                       ...                        ...   \n",
      "828      ...                       0.0                        0.0   \n",
      "829      ...                       0.0                        0.0   \n",
      "830      ...                       0.0                        0.0   \n",
      "831      ...                       0.0                        0.0   \n",
      "832      ...                       0.0                        0.0   \n",
      "833      ...                       0.0                        0.0   \n",
      "834      ...                       0.0                        0.0   \n",
      "835      ...                       0.0                        0.0   \n",
      "836      ...                       0.0                        0.0   \n",
      "837      ...                       0.0                        0.0   \n",
      "838      ...                       0.0                        0.0   \n",
      "839      ...                       0.0                        0.0   \n",
      "840      ...                       0.0                        0.0   \n",
      "841      ...                       0.0                        0.0   \n",
      "842      ...                       0.0                        0.0   \n",
      "843      ...                       0.0                        0.0   \n",
      "844      ...                       0.0                        0.0   \n",
      "845      ...                       0.0                        0.0   \n",
      "846      ...                       0.0                        0.0   \n",
      "847      ...                       0.0                        0.0   \n",
      "848      ...                       0.0                        0.0   \n",
      "849      ...                       0.0                        0.0   \n",
      "850      ...                       0.0                        0.0   \n",
      "851      ...                       0.0                        0.0   \n",
      "852      ...                       0.0                        0.0   \n",
      "853      ...                       0.0                        0.0   \n",
      "854      ...                       0.0                        0.0   \n",
      "855      ...                       0.0                        0.0   \n",
      "856      ...                       0.0                        0.0   \n",
      "857      ...                       0.0                        0.0   \n",
      "\n",
      "    STDs:pelvic inflammatory disease STDs:syphilis  \\\n",
      "0                                0.0           0.0   \n",
      "1                                0.0           0.0   \n",
      "2                                0.0           0.0   \n",
      "3                                0.0           0.0   \n",
      "4                                0.0           0.0   \n",
      "5                                0.0           0.0   \n",
      "6                                0.0           0.0   \n",
      "7                                0.0           0.0   \n",
      "8                                0.0           0.0   \n",
      "9                                0.0           0.0   \n",
      "10                               0.0           0.0   \n",
      "11                               0.0           0.0   \n",
      "12                               0.0           0.0   \n",
      "13                               0.0           0.0   \n",
      "14                               0.0           0.0   \n",
      "15                               0.0           0.0   \n",
      "16                               0.0           0.0   \n",
      "17                               0.0           0.0   \n",
      "18                               0.0           0.0   \n",
      "19                               0.0           0.0   \n",
      "20                               0.0           0.0   \n",
      "21                               0.0           1.0   \n",
      "22                               0.0           0.0   \n",
      "23                               0.0           0.0   \n",
      "24                               0.0           0.0   \n",
      "25                               0.0           0.0   \n",
      "26                               0.0           0.0   \n",
      "27                               0.0           0.0   \n",
      "28                               0.0           0.0   \n",
      "29                               0.0           0.0   \n",
      "..                               ...           ...   \n",
      "828                              0.0           0.0   \n",
      "829                              0.0           0.0   \n",
      "830                              0.0           0.0   \n",
      "831                              0.0           0.0   \n",
      "832                              0.0           0.0   \n",
      "833                              0.0           0.0   \n",
      "834                              0.0           0.0   \n",
      "835                              0.0           0.0   \n",
      "836                              0.0           0.0   \n",
      "837                              0.0           0.0   \n",
      "838                              0.0           0.0   \n",
      "839                              0.0           0.0   \n",
      "840                              0.0           0.0   \n",
      "841                              0.0           0.0   \n",
      "842                              0.0           0.0   \n",
      "843                              0.0           0.0   \n",
      "844                              0.0           0.0   \n",
      "845                              0.0           0.0   \n",
      "846                              0.0           0.0   \n",
      "847                              0.0           0.0   \n",
      "848                              0.0           0.0   \n",
      "849                              0.0           0.0   \n",
      "850                              0.0           0.0   \n",
      "851                              0.0           0.0   \n",
      "852                              0.0           0.0   \n",
      "853                              0.0           0.0   \n",
      "854                              0.0           0.0   \n",
      "855                              0.0           0.0   \n",
      "856                              0.0           0.0   \n",
      "857                              0.0           0.0   \n",
      "\n",
      "    STDs:vaginal condylomatosis STDs:vulvo-perineal condylomatosis Schiller  \\\n",
      "0                           0.0                                0.0        0   \n",
      "1                           0.0                                0.0        0   \n",
      "2                           0.0                                0.0        0   \n",
      "3                           0.0                                0.0        0   \n",
      "4                           0.0                                0.0        0   \n",
      "5                           0.0                                0.0        0   \n",
      "6                           0.0                                0.0        1   \n",
      "7                           0.0                                0.0        0   \n",
      "8                           0.0                                0.0        0   \n",
      "9                           0.0                                0.0        0   \n",
      "10                          0.0                                0.0        0   \n",
      "11                          0.0                                0.0        0   \n",
      "12                          0.0                                0.0        0   \n",
      "13                          0.0                                0.0        0   \n",
      "14                          0.0                                0.0        0   \n",
      "15                          0.0                                0.0        0   \n",
      "16                          0.0                                0.0        0   \n",
      "17                          0.0                                0.0        0   \n",
      "18                          0.0                                1.0        0   \n",
      "19                          0.0                                0.0        0   \n",
      "20                          0.0                                0.0        0   \n",
      "21                          0.0                                0.0        0   \n",
      "22                          0.0                                1.0        1   \n",
      "23                          0.0                                0.0        1   \n",
      "24                          0.0                                0.0        0   \n",
      "25                          0.0                                0.0        0   \n",
      "26                          0.0                                0.0        0   \n",
      "27                          0.0                                0.0        0   \n",
      "28                          0.0                                0.0        0   \n",
      "29                          0.0                                0.0        0   \n",
      "..                          ...                                ...      ...   \n",
      "828                         0.0                                0.0        0   \n",
      "829                         0.0                                0.0        0   \n",
      "830                         0.0                                0.0        0   \n",
      "831                         0.0                                0.0        0   \n",
      "832                         0.0                                0.0        0   \n",
      "833                         0.0                                0.0        0   \n",
      "834                         0.0                                0.0        0   \n",
      "835                         0.0                                0.0        0   \n",
      "836                         0.0                                0.0        0   \n",
      "837                         0.0                                0.0        0   \n",
      "838                         0.0                                0.0        0   \n",
      "839                         0.0                                0.0        0   \n",
      "840                         0.0                                0.0        0   \n",
      "841                         0.0                                0.0        0   \n",
      "842                         0.0                                0.0        0   \n",
      "843                         0.0                                0.0        0   \n",
      "844                         0.0                                0.0        0   \n",
      "845                         0.0                                0.0        0   \n",
      "846                         0.0                                0.0        0   \n",
      "847                         0.0                                0.0        0   \n",
      "848                         0.0                                0.0        0   \n",
      "849                         0.0                                0.0        0   \n",
      "850                         0.0                                0.0        0   \n",
      "851                         0.0                                0.0        0   \n",
      "852                         0.0                                0.0        0   \n",
      "853                         0.0                                0.0        0   \n",
      "854                         0.0                                0.0        0   \n",
      "855                         0.0                                0.0        0   \n",
      "856                         0.0                                0.0        0   \n",
      "857                         0.0                                0.0        0   \n",
      "\n",
      "     Smokes Smokes (packs/year) Smokes (years)  \n",
      "0       0.0                 0.0            0.0  \n",
      "1       0.0                 0.0            0.0  \n",
      "2       0.0                 0.0            0.0  \n",
      "3       1.0                37.0           37.0  \n",
      "4       0.0                 0.0            0.0  \n",
      "5       0.0                 0.0            0.0  \n",
      "6       1.0                 3.4           34.0  \n",
      "7       0.0                 0.0            0.0  \n",
      "8       0.0                 0.0            0.0  \n",
      "9       1.0                 2.8    1.266972909  \n",
      "10      0.0                 0.0            0.0  \n",
      "11      0.0                 0.0            0.0  \n",
      "12      0.0                 0.0            0.0  \n",
      "13      0.0                 0.0            0.0  \n",
      "14      0.0                 0.0            0.0  \n",
      "15      0.0                 0.0            0.0  \n",
      "16      0.0                 0.0            0.0  \n",
      "17      0.0                 0.0            0.0  \n",
      "18      0.0                 0.0            0.0  \n",
      "19      0.0                 0.0            0.0  \n",
      "20      0.0                 0.0            0.0  \n",
      "21      0.0                 0.0            0.0  \n",
      "22      0.0                 0.0            0.0  \n",
      "23      0.0                 0.0            0.0  \n",
      "24      0.0                 0.0            0.0  \n",
      "25      0.0                 0.0            0.0  \n",
      "26      0.0                 0.0            0.0  \n",
      "27      0.0                 0.0            0.0  \n",
      "28      1.0                0.04            3.0  \n",
      "29      0.0                 0.0            0.0  \n",
      "..      ...                 ...            ...  \n",
      "828     0.0                 0.0            0.0  \n",
      "829     0.0                 0.0            0.0  \n",
      "830     0.0                 0.0            0.0  \n",
      "831     0.0                 0.0            0.0  \n",
      "832     0.0                 0.0            0.0  \n",
      "833     0.0                 0.0            0.0  \n",
      "834     1.0                 8.0           16.0  \n",
      "835     0.0                 0.0            0.0  \n",
      "836     0.0                 0.0            0.0  \n",
      "837     1.0                 5.5           11.0  \n",
      "838     0.0                 0.0            0.0  \n",
      "839     0.0                 0.0            0.0  \n",
      "840     0.0                 0.0            0.0  \n",
      "841     0.0                 0.0            0.0  \n",
      "842     1.0                 0.3            6.0  \n",
      "843     0.0                 0.0            0.0  \n",
      "844     1.0                1.35            9.0  \n",
      "845     0.0                 0.0            0.0  \n",
      "846     0.0                 0.0            0.0  \n",
      "847     0.0                 0.0            0.0  \n",
      "848     0.0                 0.0            0.0  \n",
      "849     1.0                0.16           11.0  \n",
      "850     0.0                 0.0            0.0  \n",
      "851     0.0                 0.0            0.0  \n",
      "852     0.0                 0.0            0.0  \n",
      "853     0.0                 0.0            0.0  \n",
      "854     0.0                 0.0            0.0  \n",
      "855     0.0                 0.0            0.0  \n",
      "856     0.0                 0.0            0.0  \n",
      "857     0.0                 0.0            0.0  \n",
      "\n",
      "[858 rows x 36 columns]\n"
     ]
    }
   ],
   "source": [
    "print(df)"
   ]
  },
  {
   "cell_type": "code",
   "execution_count": 12,
   "metadata": {},
   "outputs": [],
   "source": [
    "# Create train and test data"
   ]
  },
  {
   "cell_type": "code",
   "execution_count": 13,
   "metadata": {},
   "outputs": [],
   "source": [
    "msk = np.random.rand(len(df)) < 0.8;"
   ]
  },
  {
   "cell_type": "code",
   "execution_count": 14,
   "metadata": {},
   "outputs": [],
   "source": [
    "train = df[msk];"
   ]
  },
  {
   "cell_type": "code",
   "execution_count": 15,
   "metadata": {},
   "outputs": [],
   "source": [
    "test = df[~msk];"
   ]
  },
  {
   "cell_type": "code",
   "execution_count": 16,
   "metadata": {
    "scrolled": false
   },
   "outputs": [],
   "source": [
    "train_y=train[\"Biopsy\"]"
   ]
  },
  {
   "cell_type": "code",
   "execution_count": 17,
   "metadata": {},
   "outputs": [],
   "source": [
    "train_x=train[train.columns.difference([\"Biopsy\"])]\n",
    "#train_x=train[train.columns[1:21]]"
   ]
  },
  {
   "cell_type": "code",
   "execution_count": 18,
   "metadata": {},
   "outputs": [],
   "source": [
    "test_y=test[\"Biopsy\"]"
   ]
  },
  {
   "cell_type": "code",
   "execution_count": 19,
   "metadata": {},
   "outputs": [],
   "source": [
    "test_x=test[test.columns.difference([\"Biopsy\"])]\n",
    "#test_x=test[test.columns[1:21]]"
   ]
  },
  {
   "cell_type": "code",
   "execution_count": 20,
   "metadata": {},
   "outputs": [],
   "source": [
    "#Model Training"
   ]
  },
  {
   "cell_type": "code",
   "execution_count": 21,
   "metadata": {},
   "outputs": [],
   "source": [
    "svc = svm.SVC(kernel='linear')"
   ]
  },
  {
   "cell_type": "code",
   "execution_count": 22,
   "metadata": {},
   "outputs": [],
   "source": [
    "model=svc.fit(train_x,train_y)"
   ]
  },
  {
   "cell_type": "code",
   "execution_count": 23,
   "metadata": {},
   "outputs": [
    {
     "name": "stdout",
     "output_type": "stream",
     "text": [
      "SVC(C=1.0, cache_size=200, class_weight=None, coef0=0.0,\n",
      "  decision_function_shape='ovr', degree=3, gamma='auto', kernel='linear',\n",
      "  max_iter=-1, probability=False, random_state=None, shrinking=True,\n",
      "  tol=0.001, verbose=False)\n"
     ]
    }
   ],
   "source": [
    "print(model)"
   ]
  },
  {
   "cell_type": "code",
   "execution_count": 24,
   "metadata": {},
   "outputs": [],
   "source": [
    "#Prediction"
   ]
  },
  {
   "cell_type": "code",
   "execution_count": 25,
   "metadata": {},
   "outputs": [],
   "source": [
    "prediction=svc.predict(test_x)"
   ]
  },
  {
   "cell_type": "code",
   "execution_count": 26,
   "metadata": {},
   "outputs": [
    {
     "name": "stdout",
     "output_type": "stream",
     "text": [
      "[0 0 0 0 0 0 0 0 0 0 0 0 0 0 0 1 0 0 0 0 0 0 0 0 0 0 0 0 0 0 0 0 0 0 0 0 0\n",
      " 0 0 0 0 0 0 0 0 0 0 0 0 0 1 0 0 0 0 0 0 1 0 0 0 0 0 0 0 0 0 0 0 0 0 0 0 0\n",
      " 0 0 0 0 0 0 0 0 0 0 0 0 0 0 0 0 0 0 0 0 0 0 0 1 0 0 0 0 0 0 0 0 0 0 0 0 0\n",
      " 0 0 0 0 0 0 0 0 0 0 0 1 0 0 0 0 0 0 0 1 0 0 0 0 0 0 0 0 0 1 0 0 0 0 0 0 0\n",
      " 0 0 1 0 0 0 0 0 0 0 0 0 0 0 0 0 0 0 0 0 0 0 0 0 0 0 0 0]\n"
     ]
    }
   ],
   "source": [
    "print(prediction)"
   ]
  },
  {
   "cell_type": "code",
   "execution_count": 27,
   "metadata": {},
   "outputs": [],
   "source": [
    "#accuracy"
   ]
  },
  {
   "cell_type": "code",
   "execution_count": 28,
   "metadata": {},
   "outputs": [],
   "source": [
    "accuracy = metrics.accuracy_score(test_y, prediction)"
   ]
  },
  {
   "cell_type": "code",
   "execution_count": 29,
   "metadata": {},
   "outputs": [
    {
     "name": "stdout",
     "output_type": "stream",
     "text": [
      "0.9602272727272727\n"
     ]
    }
   ],
   "source": [
    "print(accuracy)"
   ]
  },
  {
   "cell_type": "code",
   "execution_count": 30,
   "metadata": {},
   "outputs": [],
   "source": [
    "fpr, tpr, thresholds = metrics.roc_curve(test_y, prediction)"
   ]
  },
  {
   "cell_type": "code",
   "execution_count": 31,
   "metadata": {},
   "outputs": [],
   "source": [
    "auc = metrics.auc(fpr, tpr)"
   ]
  },
  {
   "cell_type": "code",
   "execution_count": 32,
   "metadata": {},
   "outputs": [
    {
     "name": "stdout",
     "output_type": "stream",
     "text": [
      "0.8159922928709056\n"
     ]
    }
   ],
   "source": [
    "print(auc)"
   ]
  },
  {
   "cell_type": "code",
   "execution_count": null,
   "metadata": {},
   "outputs": [],
   "source": []
  }
 ],
 "metadata": {
  "kernelspec": {
   "display_name": "Python 3",
   "language": "python",
   "name": "python3"
  },
  "language_info": {
   "codemirror_mode": {
    "name": "ipython",
    "version": 3
   },
   "file_extension": ".py",
   "mimetype": "text/x-python",
   "name": "python",
   "nbconvert_exporter": "python",
   "pygments_lexer": "ipython3",
   "version": "3.6.4"
  }
 },
 "nbformat": 4,
 "nbformat_minor": 2
}
